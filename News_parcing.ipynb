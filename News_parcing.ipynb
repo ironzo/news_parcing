{
 "cells": [
  {
   "cell_type": "markdown",
   "id": "6b8dd288",
   "metadata": {},
   "source": [
    "### Parcing data from Investing.con, selecting USA High-Volatile News. Saving data to SQL-lite"
   ]
  },
  {
   "cell_type": "markdown",
   "id": "10e042a2",
   "metadata": {},
   "source": [
    "#### Imports"
   ]
  },
  {
   "cell_type": "code",
   "execution_count": 75,
   "id": "e15fd885",
   "metadata": {},
   "outputs": [],
   "source": [
    "import requests\n",
    "from bs4 import BeautifulSoup\n",
    "import sqlite3"
   ]
  },
  {
   "cell_type": "markdown",
   "id": "3cf2361f",
   "metadata": {},
   "source": [
    "#### Connecting to website. Checking response"
   ]
  },
  {
   "cell_type": "code",
   "execution_count": 50,
   "id": "936d87d0",
   "metadata": {},
   "outputs": [
    {
     "data": {
      "text/plain": [
       "<Response [200]>"
      ]
     },
     "execution_count": 50,
     "metadata": {},
     "output_type": "execute_result"
    }
   ],
   "source": [
    "url = 'https://www.investing.com/economic-calendar/'\n",
    "headers = {\n",
    "    \"Accept\": \"*/*\",\n",
    "    \"User-Agent\": \" \n",
    "} # paste your user-agent\n",
    "req = requests.get(url, headers=headers)\n",
    "req"
   ]
  },
  {
   "cell_type": "markdown",
   "id": "a0362cc3",
   "metadata": {},
   "source": [
    "#### Selecting special data from the website"
   ]
  },
  {
   "cell_type": "code",
   "execution_count": 89,
   "id": "c7df6026",
   "metadata": {},
   "outputs": [
    {
     "name": "stdout",
     "output_type": "stream",
     "text": [
      "Initial Jobless Claims 2024/02/01 08:30:00 \n",
      "Forecast: 213K, Previous: 214K\n",
      "Check more info -> https://www.investing.com/economic-calendar/initial-jobless-claims-294\n",
      "\n",
      "S&P Global US Manufacturing PMI (Jan) 2024/02/01 09:45:00 \n",
      "Forecast: 50.3, Previous: 47.9\n",
      "Check more info -> https://www.investing.com/economic-calendar/manufacturing-pmi-829\n",
      "\n",
      "ISM Manufacturing PMI (Jan) 2024/02/01 10:00:00 \n",
      "Forecast: 47.2, Previous: 47.4\n",
      "Check more info -> https://www.investing.com/economic-calendar/ism-manufacturing-pmi-173\n",
      "\n",
      "ISM Manufacturing Prices (Jan) 2024/02/01 10:00:00 \n",
      "Forecast: 46.0, Previous: 45.2\n",
      "Check more info -> https://www.investing.com/economic-calendar/ism-manufacturing-prices-174\n",
      "\n"
     ]
    }
   ],
   "source": [
    "soup = BeautifulSoup(req.text, 'html.parser')\n",
    "\n",
    "news = [] #Creating an empty list to store further data\n",
    "\n",
    "for item in soup.find_all(class_=\"js-event-item\"):\n",
    "    title = item.find(class_=\"left event\").text.strip()\n",
    "    country_element = item.find(class_=\"left flagCur noWrap\")\n",
    "    country = country_element.get_text(strip=True) if country_element else ''\n",
    "    \n",
    "    volatility = item.find(class_=\"left textNum sentiment noWrap\").get(\"title\")\n",
    "\n",
    "    time = item.get(\"data-event-datetime\")\n",
    "    link = 'https://www.investing.com' + item.find(\"a\").get(\"href\")\n",
    "    \n",
    "    previous_element = item.select_one(\"[class^='prev']\")\n",
    "    previous = previous_element.get_text(strip=True) if previous_element else 'N/A'\n",
    "\n",
    "    forecast_element = item.select_one(\"[class^='fore']\")\n",
    "    forecast = forecast_element.get_text(strip=True) if forecast_element else 'N/A'\n",
    "        \n",
    "\n",
    "        \n",
    "    if (country == \"USD\") and (volatility == \"High Volatility Expected\"):\n",
    "        checking_if_everything_is_good = f'{title} {time} \\nForecast: {forecast}, Previous: {previous}\\nCheck more info -> {link}\\n'\n",
    "        print(checking_if_everything_is_good)\n",
    "        news.append((title,time,forecast,previous,link))\n",
    "        \n",
    "#print(news)\n",
    "        \n",
    "        "
   ]
  },
  {
   "cell_type": "markdown",
   "id": "de1274ed",
   "metadata": {},
   "source": [
    "#### Creating SQL table"
   ]
  },
  {
   "cell_type": "code",
   "execution_count": 90,
   "id": "0185d4b9",
   "metadata": {},
   "outputs": [
    {
     "data": {
      "text/plain": [
       "<sqlite3.Cursor at 0x116473c40>"
      ]
     },
     "execution_count": 90,
     "metadata": {},
     "output_type": "execute_result"
    }
   ],
   "source": [
    "conn = sqlite3.connect('news.db')\n",
    "cursor = conn.cursor()\n",
    "cursor.execute('''\n",
    "    CREATE TABLE usa_news (\n",
    "        title TEXT, \n",
    "        time TEXT, \n",
    "        forecast TEXT, \n",
    "        previous TEXT,\n",
    "        link TEXT\n",
    "    )\n",
    "''')"
   ]
  },
  {
   "cell_type": "markdown",
   "id": "6297d951",
   "metadata": {},
   "source": [
    "#### Inserting data fron news list to SQL table \"usa_news\""
   ]
  },
  {
   "cell_type": "code",
   "execution_count": 91,
   "id": "a7cbadef",
   "metadata": {},
   "outputs": [
    {
     "data": {
      "text/plain": [
       "<sqlite3.Cursor at 0x116473c40>"
      ]
     },
     "execution_count": 91,
     "metadata": {},
     "output_type": "execute_result"
    }
   ],
   "source": [
    "cursor.executemany('INSERT INTO usa_news VALUES (?, ?, ?, ?, ?)', news)"
   ]
  },
  {
   "cell_type": "markdown",
   "id": "7d29f76a",
   "metadata": {},
   "source": [
    "#### Checking data in the table"
   ]
  },
  {
   "cell_type": "code",
   "execution_count": 92,
   "id": "c53ddd53",
   "metadata": {},
   "outputs": [
    {
     "name": "stdout",
     "output_type": "stream",
     "text": [
      "('Initial Jobless Claims', '2024/02/01 08:30:00', '213K', '214K', 'https://www.investing.com/economic-calendar/initial-jobless-claims-294')\n",
      "('S&P Global US Manufacturing PMI (Jan)', '2024/02/01 09:45:00', '50.3', '47.9', 'https://www.investing.com/economic-calendar/manufacturing-pmi-829')\n",
      "('ISM Manufacturing PMI (Jan)', '2024/02/01 10:00:00', '47.2', '47.4', 'https://www.investing.com/economic-calendar/ism-manufacturing-pmi-173')\n",
      "('ISM Manufacturing Prices (Jan)', '2024/02/01 10:00:00', '46.0', '45.2', 'https://www.investing.com/economic-calendar/ism-manufacturing-prices-174')\n"
     ]
    }
   ],
   "source": [
    "cursor = conn.cursor()\n",
    "query = \"SELECT * FROM usa_news\"\n",
    "cursor.execute(query)\n",
    "rows = cursor.fetchall()\n",
    "for row in rows:\n",
    "    print(row)\n",
    "conn.close()"
   ]
  }
 ],
 "metadata": {
  "kernelspec": {
   "display_name": "Python 3 (ipykernel)",
   "language": "python",
   "name": "python3"
  },
  "language_info": {
   "codemirror_mode": {
    "name": "ipython",
    "version": 3
   },
   "file_extension": ".py",
   "mimetype": "text/x-python",
   "name": "python",
   "nbconvert_exporter": "python",
   "pygments_lexer": "ipython3",
   "version": "3.11.5"
  }
 },
 "nbformat": 4,
 "nbformat_minor": 5
}
